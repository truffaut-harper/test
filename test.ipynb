{
 "cells": [
  {
   "cell_type": "code",
   "execution_count": 1,
   "id": "95a6021c-7e2b-4be1-a171-b14c058a50c6",
   "metadata": {},
   "outputs": [
    {
     "name": "stdout",
     "output_type": "stream",
     "text": [
      "This is a test.\n"
     ]
    }
   ],
   "source": [
    "print(\"This is a test.\")"
   ]
  },
  {
   "cell_type": "code",
   "execution_count": 2,
   "id": "03564952-2800-4258-930a-2c229ed33ed4",
   "metadata": {},
   "outputs": [
    {
     "name": "stdout",
     "output_type": "stream",
     "text": [
      "Answer: -41\n"
     ]
    }
   ],
   "source": [
    "!python run.py"
   ]
  },
  {
   "cell_type": "code",
   "execution_count": null,
   "id": "fe8a3026-3b67-4622-a6e3-35e755b97018",
   "metadata": {},
   "outputs": [],
   "source": []
  }
 ],
 "metadata": {
  "kernelspec": {
   "display_name": "Python 3 (ipykernel)",
   "language": "python",
   "name": "python3"
  },
  "language_info": {
   "codemirror_mode": {
    "name": "ipython",
    "version": 3
   },
   "file_extension": ".py",
   "mimetype": "text/x-python",
   "name": "python",
   "nbconvert_exporter": "python",
   "pygments_lexer": "ipython3",
   "version": "3.7.12"
  }
 },
 "nbformat": 4,
 "nbformat_minor": 5
}
